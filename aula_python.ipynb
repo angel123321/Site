{
  "nbformat": 4,
  "nbformat_minor": 0,
  "metadata": {
    "colab": {
      "provenance": [],
      "authorship_tag": "ABX9TyOHHnZEijfbU7e+NSVTpPe6",
      "include_colab_link": true
    },
    "kernelspec": {
      "name": "python3",
      "display_name": "Python 3"
    },
    "language_info": {
      "name": "python"
    }
  },
  "cells": [
    {
      "cell_type": "markdown",
      "metadata": {
        "id": "view-in-github",
        "colab_type": "text"
      },
      "source": [
        "<a href=\"https://colab.research.google.com/github/angel123321/Site/blob/main/aula_python.ipynb\" target=\"_parent\"><img src=\"https://colab.research.google.com/assets/colab-badge.svg\" alt=\"Open In Colab\"/></a>"
      ]
    },
    {
      "cell_type": "code",
      "execution_count": null,
      "metadata": {
        "id": "89-36qhEfilI"
      },
      "outputs": [],
      "source": []
    },
    {
      "cell_type": "markdown",
      "source": [
        "aula 2"
      ],
      "metadata": {
        "id": "icVTeRZmhSMM"
      }
    },
    {
      "cell_type": "code",
      "source": [
        "livro_ficcao = 8\n",
        "livro_n_ficcao = 10\n",
        "livro_infantil = 6"
      ],
      "metadata": {
        "id": "vgcpynyXirNU"
      },
      "execution_count": null,
      "outputs": []
    },
    {
      "cell_type": "markdown",
      "source": [
        "aula3"
      ],
      "metadata": {
        "id": "ic29eXsKnVDn"
      }
    },
    {
      "cell_type": "code",
      "source": [
        "numero_de_alunos = int(input(\"Digite a quantidade de alunos: \"))\n",
        "numero_de_monitores = int(input(\"Digite a quantidade de monitores: \"))\n",
        "if numero_de_alunos + numero_de_monitores <= 50:\n",
        "  resposta_positiva =\"pode ir\"\n",
        "  resposta_negativa=\"não pode ir\"\n",
        "   if numero e alunos + numeros e monitores < = 50:\n",
        "  print resposta_positiva = \"pode ir\"\n",
        " else:\n",
        "print resposta_negativa = \"não pode ir\"\n",
        "\n",
        "digite a quantidade de alunos: 30\n",
        "digite a quantidade de monitores: 5\n",
        "pode ir"
      ],
      "metadata": {
        "colab": {
          "base_uri": "https://localhost:8080/",
          "height": 106
        },
        "id": "yZTTVmiCozXw",
        "outputId": "4ff8494b-707e-4fec-9c39-1a26ffe63222"
      },
      "execution_count": null,
      "outputs": [
        {
          "output_type": "error",
          "ename": "IndentationError",
          "evalue": "unindent does not match any outer indentation level (<tokenize>, line 8)",
          "traceback": [
            "\u001b[0;36m  File \u001b[0;32m\"<tokenize>\"\u001b[0;36m, line \u001b[0;32m8\u001b[0m\n\u001b[0;31m    else:\u001b[0m\n\u001b[0m    ^\u001b[0m\n\u001b[0;31mIndentationError\u001b[0m\u001b[0;31m:\u001b[0m unindent does not match any outer indentation level\n"
          ]
        }
      ]
    },
    {
      "cell_type": "code",
      "source": [
        "quantidades_professores = 8\n",
        "numero_de_alunos = int(input(\"Digite a quantidade de alunos: \"))\n",
        "numero_de_monitores = int(input(\"Digite a quantidade de monitores: \"))\n",
        "if numero_de_alunos + numero_de_monitores + quantidades_professores <= 30:\n",
        "  resposta_positiva =\"pode ir\"\n",
        "  resposta_negativa=\"não pode ir\"\n",
        "if numero_de_alunos + numero_de_monitores + quantidades_professores <= 30:\n",
        "  print resposta_positiva = \"pode ir\"\n",
        "else:\n",
        "  print resposta_negativa = \"não pode ir\"\n",
        "\n"
      ],
      "metadata": {
        "id": "bndg2SensFaD"
      },
      "execution_count": null,
      "outputs": []
    },
    {
      "cell_type": "markdown",
      "source": [
        "aula4"
      ],
      "metadata": {
        "id": "bZFVBTl4thFD"
      }
    },
    {
      "cell_type": "code",
      "source": [
        "P = int(input(\"Digite a posição da porta P (0 ou 1): \").strip())\n",
        "R = int(input(\"Digite a posição da porta R (0 ou 1): \").strip())\n",
        "if P == 0:\n",
        "    print(\"C\")\n",
        "elif R == 1:\n",
        "    print(\"A\")\n",
        "else:\n",
        "    print(\"B\")"
      ],
      "metadata": {
        "colab": {
          "base_uri": "https://localhost:8080/"
        },
        "id": "m-85uqKAti_h",
        "outputId": "93b1e344-e30b-4fb4-e339-7c3869a8657c"
      },
      "execution_count": 2,
      "outputs": [
        {
          "output_type": "stream",
          "name": "stdout",
          "text": [
            "Digite a posição da porta P (0 ou 1): 0\n",
            "Digite a posição da porta R (0 ou 1): 1\n",
            "C\n"
          ]
        }
      ]
    },
    {
      "cell_type": "code",
      "source": [
        "P = int(input(\"Digite a posição da porta P (0 ou 1): \").strip())\n",
        "R = int(input(\"Digite a posição da porta R (0 ou 1): \").strip())\n",
        "q = int(input(\"Digite a posição da porta R (0 ou 1): \").strip())\n",
        "if P == 0:\n",
        "    print(\"C\")\n",
        "elif R == 1:\n",
        "    print(\"A\")\n",
        "else:\n",
        "    print(\"B\")\n",
        "    if Q == 1:\n",
        "    print(\"D\")"
      ],
      "metadata": {
        "id": "sQD2TrCGxxs4"
      },
      "execution_count": null,
      "outputs": []
    }
  ]
}